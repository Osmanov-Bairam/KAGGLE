{
 "cells": [
  {
   "cell_type": "code",
   "execution_count": null,
   "outputs": [],
   "source": [
    "import csv\n",
    "import random\n",
    "import time\n",
    "\n",
    "\n",
    "def gen():\n",
    "    x_value = 0\n",
    "    total_1 = 1000\n",
    "    total_2 = 1000\n",
    "\n",
    "    fieldnames = [\"x_value\", \"total_1\", \"total_2\"]\n",
    "\n",
    "\n",
    "    with open('data.csv', 'w') as csv_file:\n",
    "        csv_writer = csv.DictWriter(csv_file, fieldnames=fieldnames)\n",
    "        csv_writer.writeheader()\n",
    "\n",
    "    while True:\n",
    "\n",
    "        with open('data.csv', 'a') as csv_file:\n",
    "            csv_writer = csv.DictWriter(csv_file, fieldnames=fieldnames)\n",
    "\n",
    "            info = {\n",
    "                \"x_value\": x_value,\n",
    "                \"total_1\": total_1,\n",
    "                \"total_2\": total_2\n",
    "            }\n",
    "\n",
    "            csv_writer.writerow(info)\n",
    "            print(x_value, total_1, total_2)\n",
    "\n",
    "            x_value += 1\n",
    "            total_1 = total_1 + random.randint(-6, 8)\n",
    "            total_2 = total_2 + random.randint(-5, 6)\n",
    "\n",
    "        time.sleep(0.1)\n",
    "\n",
    "gen()"
   ],
   "metadata": {
    "collapsed": false,
    "pycharm": {
     "name": "#%%\n"
    }
   }
  },
  {
   "cell_type": "code",
   "execution_count": 4,
   "outputs": [
    {
     "name": "stdout",
     "output_type": "stream",
     "text": [
      "Using matplotlib backend: TkAgg\n"
     ]
    }
   ],
   "source": [
    "%matplotlib\n",
    "\n",
    "import random\n",
    "from itertools import count\n",
    "import pandas as pd\n",
    "import matplotlib.pyplot as plt\n",
    "from matplotlib.animation import FuncAnimation\n",
    "\n",
    "plt.style.use('fivethirtyeight')\n",
    "\n",
    "x_vals = []\n",
    "y_vals = []\n",
    "\n",
    "index = count()\n",
    "\n",
    "\n",
    "def animate(i):\n",
    "\n",
    "    data = pd.read_csv('data.csv')\n",
    "    x = data['x_value']\n",
    "    y1 = data['total_1']\n",
    "    y2 = data['total_2']\n",
    "\n",
    "    plt.cla()\n",
    "\n",
    "    plt.plot(x, y1, label='Channel 1')\n",
    "    plt.plot(x, y2, label='Channel 2')\n",
    "\n",
    "    plt.legend(loc='upper left')\n",
    "\n",
    "\n",
    "\n",
    "ani = FuncAnimation(plt.gcf(), animate, interval=1000)\n",
    "\n",
    "\n",
    "plt.show()\n"
   ],
   "metadata": {
    "collapsed": false,
    "pycharm": {
     "name": "#%%\n"
    }
   }
  },
  {
   "cell_type": "code",
   "execution_count": null,
   "outputs": [],
   "source": [],
   "metadata": {
    "collapsed": false,
    "pycharm": {
     "name": "#%%\n"
    }
   }
  }
 ],
 "metadata": {
  "kernelspec": {
   "display_name": "Python 3",
   "language": "python",
   "name": "python3"
  },
  "language_info": {
   "codemirror_mode": {
    "name": "ipython",
    "version": 2
   },
   "file_extension": ".py",
   "mimetype": "text/x-python",
   "name": "python",
   "nbconvert_exporter": "python",
   "pygments_lexer": "ipython2",
   "version": "2.7.6"
  }
 },
 "nbformat": 4,
 "nbformat_minor": 0
}