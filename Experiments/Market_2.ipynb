{
 "cells": [
  {
   "cell_type": "code",
   "execution_count": 71,
   "outputs": [],
   "source": [
    "import pandas as pd\n",
    "import os"
   ],
   "metadata": {
    "collapsed": false,
    "pycharm": {
     "name": "#%%\n"
    }
   }
  },
  {
   "cell_type": "code",
   "execution_count": 83,
   "outputs": [],
   "source": [
    "PATH = \"Experiments\\\\datasets\"\n",
    "SELECT = \"Short\\\\data.csv\""
   ],
   "metadata": {
    "collapsed": false,
    "pycharm": {
     "name": "#%%\n"
    }
   }
  },
  {
   "cell_type": "code",
   "execution_count": 84,
   "outputs": [],
   "source": [
    "def load_data(path=PATH):\n",
    "    csv_path = os.path.join(path, SELECT)\n",
    "    return pd.read_csv(csv_path)"
   ],
   "metadata": {
    "collapsed": false,
    "pycharm": {
     "name": "#%%\n"
    }
   }
  },
  {
   "cell_type": "code",
   "execution_count": 85,
   "outputs": [
    {
     "data": {
      "text/plain": "     Cycle Settlement Date BATS-Symbol                   Security Name  \\\n0                 20210615        ACIO  Aptus Collared Income Opportun   \n1                 20210615        ACSI  American Customer Satisfaction   \n2                 20210615        ACWV  iShares MSCI Global Min Vol Fa   \n3                 20210615        ADFI  Anfield Dynamic Fixed Income E   \n4                 20210615        ADME   Aptus Behavioral Momentum ETF   \n..                     ...         ...                             ...   \n471               20210615         XVV  iShares ESG Screened S&P 500 E   \n472               20210615         XVZ   iPath S&P 500 Dynamic VIX ETN   \n473               20210615        YDEC  FT Cboe Vest International Equ   \n474               20210615        YMAR  FT Cboe Vest International Equ   \n475               20210615         YPS       Arrow Reverse Cap 500 ETF   \n\n     # Shares Net Short Current Cycle  # Shares Net Short Previous Cycle  \\\n0                               30253                              22612   \n1                                 231                                748   \n2                              390954                             577518   \n3                                  86                               6729   \n4                                4865                               8021   \n..                                ...                                ...   \n471                              9702                              11217   \n472                              1339                               2022   \n473                              3433                               3499   \n474                              2773                              15369   \n475                              7160                              18568   \n\n     Cycle Avg Daily Trade Vol  Min # of Trade Days To Cover Shorts  \\\n0                        23378                                 1.29   \n1                          577                                 1.00   \n2                       156717                                 2.49   \n3                        16885                                 1.00   \n4                        19606                                 1.00   \n..                         ...                                  ...   \n471                       8995                                 1.08   \n472                       3999                                 1.00   \n473                        997                                 3.44   \n474                      10251                                 1.00   \n475                       4790                                 1.49   \n\n     Split Indicator (\"S\" or null) Manual Revision Indicator (\"R\" or null)  \\\n0                              NaN                                       R   \n1                              NaN                                       R   \n2                              NaN                                     NaN   \n3                              NaN                                       R   \n4                              NaN                                       R   \n..                             ...                                     ...   \n471                            NaN                                     NaN   \n472                            NaN                                     NaN   \n473                            NaN                                     NaN   \n474                            NaN                                     NaN   \n475                            NaN                                     NaN   \n\n     Percent Change in Short Position  Change in Short Position From Previous  \n0                               33.79                                    7641  \n1                              -69.12                                    -517  \n2                              -32.30                                 -186564  \n3                              -98.72                                   -6643  \n4                              -39.35                                   -3156  \n..                                ...                                     ...  \n471                            -13.51                                   -1515  \n472                            -33.78                                    -683  \n473                             -1.89                                     -66  \n474                            -81.96                                  -12596  \n475                            -61.44                                  -11408  \n\n[476 rows x 11 columns]",
      "text/html": "<div>\n<style scoped>\n    .dataframe tbody tr th:only-of-type {\n        vertical-align: middle;\n    }\n\n    .dataframe tbody tr th {\n        vertical-align: top;\n    }\n\n    .dataframe thead th {\n        text-align: right;\n    }\n</style>\n<table border=\"1\" class=\"dataframe\">\n  <thead>\n    <tr style=\"text-align: right;\">\n      <th></th>\n      <th>Cycle Settlement Date</th>\n      <th>BATS-Symbol</th>\n      <th>Security Name</th>\n      <th># Shares Net Short Current Cycle</th>\n      <th># Shares Net Short Previous Cycle</th>\n      <th>Cycle Avg Daily Trade Vol</th>\n      <th>Min # of Trade Days To Cover Shorts</th>\n      <th>Split Indicator (\"S\" or null)</th>\n      <th>Manual Revision Indicator (\"R\" or null)</th>\n      <th>Percent Change in Short Position</th>\n      <th>Change in Short Position From Previous</th>\n    </tr>\n  </thead>\n  <tbody>\n    <tr>\n      <th>0</th>\n      <td>20210615</td>\n      <td>ACIO</td>\n      <td>Aptus Collared Income Opportun</td>\n      <td>30253</td>\n      <td>22612</td>\n      <td>23378</td>\n      <td>1.29</td>\n      <td>NaN</td>\n      <td>R</td>\n      <td>33.79</td>\n      <td>7641</td>\n    </tr>\n    <tr>\n      <th>1</th>\n      <td>20210615</td>\n      <td>ACSI</td>\n      <td>American Customer Satisfaction</td>\n      <td>231</td>\n      <td>748</td>\n      <td>577</td>\n      <td>1.00</td>\n      <td>NaN</td>\n      <td>R</td>\n      <td>-69.12</td>\n      <td>-517</td>\n    </tr>\n    <tr>\n      <th>2</th>\n      <td>20210615</td>\n      <td>ACWV</td>\n      <td>iShares MSCI Global Min Vol Fa</td>\n      <td>390954</td>\n      <td>577518</td>\n      <td>156717</td>\n      <td>2.49</td>\n      <td>NaN</td>\n      <td>NaN</td>\n      <td>-32.30</td>\n      <td>-186564</td>\n    </tr>\n    <tr>\n      <th>3</th>\n      <td>20210615</td>\n      <td>ADFI</td>\n      <td>Anfield Dynamic Fixed Income E</td>\n      <td>86</td>\n      <td>6729</td>\n      <td>16885</td>\n      <td>1.00</td>\n      <td>NaN</td>\n      <td>R</td>\n      <td>-98.72</td>\n      <td>-6643</td>\n    </tr>\n    <tr>\n      <th>4</th>\n      <td>20210615</td>\n      <td>ADME</td>\n      <td>Aptus Behavioral Momentum ETF</td>\n      <td>4865</td>\n      <td>8021</td>\n      <td>19606</td>\n      <td>1.00</td>\n      <td>NaN</td>\n      <td>R</td>\n      <td>-39.35</td>\n      <td>-3156</td>\n    </tr>\n    <tr>\n      <th>...</th>\n      <td>...</td>\n      <td>...</td>\n      <td>...</td>\n      <td>...</td>\n      <td>...</td>\n      <td>...</td>\n      <td>...</td>\n      <td>...</td>\n      <td>...</td>\n      <td>...</td>\n      <td>...</td>\n    </tr>\n    <tr>\n      <th>471</th>\n      <td>20210615</td>\n      <td>XVV</td>\n      <td>iShares ESG Screened S&amp;P 500 E</td>\n      <td>9702</td>\n      <td>11217</td>\n      <td>8995</td>\n      <td>1.08</td>\n      <td>NaN</td>\n      <td>NaN</td>\n      <td>-13.51</td>\n      <td>-1515</td>\n    </tr>\n    <tr>\n      <th>472</th>\n      <td>20210615</td>\n      <td>XVZ</td>\n      <td>iPath S&amp;P 500 Dynamic VIX ETN</td>\n      <td>1339</td>\n      <td>2022</td>\n      <td>3999</td>\n      <td>1.00</td>\n      <td>NaN</td>\n      <td>NaN</td>\n      <td>-33.78</td>\n      <td>-683</td>\n    </tr>\n    <tr>\n      <th>473</th>\n      <td>20210615</td>\n      <td>YDEC</td>\n      <td>FT Cboe Vest International Equ</td>\n      <td>3433</td>\n      <td>3499</td>\n      <td>997</td>\n      <td>3.44</td>\n      <td>NaN</td>\n      <td>NaN</td>\n      <td>-1.89</td>\n      <td>-66</td>\n    </tr>\n    <tr>\n      <th>474</th>\n      <td>20210615</td>\n      <td>YMAR</td>\n      <td>FT Cboe Vest International Equ</td>\n      <td>2773</td>\n      <td>15369</td>\n      <td>10251</td>\n      <td>1.00</td>\n      <td>NaN</td>\n      <td>NaN</td>\n      <td>-81.96</td>\n      <td>-12596</td>\n    </tr>\n    <tr>\n      <th>475</th>\n      <td>20210615</td>\n      <td>YPS</td>\n      <td>Arrow Reverse Cap 500 ETF</td>\n      <td>7160</td>\n      <td>18568</td>\n      <td>4790</td>\n      <td>1.49</td>\n      <td>NaN</td>\n      <td>NaN</td>\n      <td>-61.44</td>\n      <td>-11408</td>\n    </tr>\n  </tbody>\n</table>\n<p>476 rows × 11 columns</p>\n</div>"
     },
     "execution_count": 85,
     "metadata": {},
     "output_type": "execute_result"
    }
   ],
   "source": [
    "load_data()"
   ],
   "metadata": {
    "collapsed": false,
    "pycharm": {
     "name": "#%%\n"
    }
   }
  },
  {
   "cell_type": "code",
   "execution_count": null,
   "outputs": [],
   "source": [],
   "metadata": {
    "collapsed": false,
    "pycharm": {
     "name": "#%%\n"
    }
   }
  }
 ],
 "metadata": {
  "kernelspec": {
   "display_name": "Python 3",
   "language": "python",
   "name": "python3"
  },
  "language_info": {
   "codemirror_mode": {
    "name": "ipython",
    "version": 2
   },
   "file_extension": ".py",
   "mimetype": "text/x-python",
   "name": "python",
   "nbconvert_exporter": "python",
   "pygments_lexer": "ipython2",
   "version": "2.7.6"
  }
 },
 "nbformat": 4,
 "nbformat_minor": 0
}